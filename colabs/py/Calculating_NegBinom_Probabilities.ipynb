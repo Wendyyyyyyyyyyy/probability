{
  "nbformat": 4,
  "nbformat_minor": 0,
  "metadata": {
    "colab": {
      "name": "Calculating Negative Binomial Probabilities",
      "provenance": [],
      "collapsed_sections": [],
      "authorship_tag": "ABX9TyPMQKYUrNWX8xYoKZb3Haj8",
      "include_colab_link": true
    },
    "kernelspec": {
      "name": "python3",
      "display_name": "Python 3"
    }
  },
  "cells": [
    {
      "cell_type": "markdown",
      "metadata": {
        "id": "view-in-github",
        "colab_type": "text"
      },
      "source": [
        "<a href=\"https://colab.research.google.com/github/dlsun/probability/blob/master/colabs/py/Calculating_NegBinom_Probabilities.ipynb\" target=\"_parent\"><img src=\"https://colab.research.google.com/assets/colab-badge.svg\" alt=\"Open In Colab\"/></a>"
      ]
    },
    {
      "cell_type": "markdown",
      "metadata": {
        "id": "bloGjuMJ2W-U",
        "colab_type": "text"
      },
      "source": [
        "# Calculating Negative Binomial Probabilities\n",
        "\n",
        "This notebook accompanies [this lesson](http://dlsun.github.io/probability/negative-binomial.html)."
      ]
    },
    {
      "cell_type": "code",
      "metadata": {
        "id": "QjLIYY6V2GlV",
        "colab_type": "code",
        "colab": {}
      },
      "source": [
        "# Install Symbulate in this Colab\n",
        "!pip install -q symbulate"
      ],
      "execution_count": null,
      "outputs": []
    },
    {
      "cell_type": "code",
      "metadata": {
        "id": "O_4kgMBBi7HD",
        "colab_type": "code",
        "colab": {}
      },
      "source": [
        "from symbulate import *"
      ],
      "execution_count": null,
      "outputs": []
    },
    {
      "cell_type": "code",
      "metadata": {
        "id": "Cww2cCxci8Re",
        "colab_type": "code",
        "colab": {}
      },
      "source": [
        "# plot the negative binomial distribution\n",
        "NegativeBinomial(r=10, p=0.15).plot()"
      ],
      "execution_count": null,
      "outputs": []
    },
    {
      "cell_type": "code",
      "metadata": {
        "id": "JV7NADSZRk5V",
        "colab_type": "code",
        "colab": {}
      },
      "source": [
        "probs = NegativeBinomial(r=10, p=0.15).pmf(range(10, 41)) # note that range(..., 41) does not include 41\n",
        "1 - sum(probs)"
      ],
      "execution_count": null,
      "outputs": []
    },
    {
      "cell_type": "code",
      "metadata": {
        "id": "LhJRUssW2UBq",
        "colab_type": "code",
        "colab": {}
      },
      "source": [
        "1 - NegativeBinomial(r=10, p=0.15).cdf(40)"
      ],
      "execution_count": null,
      "outputs": []
    }
  ]
}