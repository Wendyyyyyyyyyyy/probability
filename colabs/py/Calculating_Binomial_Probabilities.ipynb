{
  "nbformat": 4,
  "nbformat_minor": 0,
  "metadata": {
    "colab": {
      "name": "Calculating Hypergeometric Probabilities",
      "provenance": [],
      "collapsed_sections": [],
      "authorship_tag": "ABX9TyN8TA4s5/z3nA9yUQTa/tDQ",
      "include_colab_link": true
    },
    "kernelspec": {
      "name": "python3",
      "display_name": "Python 3"
    }
  },
  "cells": [
    {
      "cell_type": "markdown",
      "metadata": {
        "id": "view-in-github",
        "colab_type": "text"
      },
      "source": [
        "<a href=\"https://colab.research.google.com/github/dlsun/probability/blob/master/colabs/py/Calculating_Binomial_Probabilities.ipynb\" target=\"_parent\"><img src=\"https://colab.research.google.com/assets/colab-badge.svg\" alt=\"Open In Colab\"/></a>"
      ]
    },
    {
      "cell_type": "markdown",
      "metadata": {
        "id": "bloGjuMJ2W-U",
        "colab_type": "text"
      },
      "source": [
        "# Calculating Binomial Probabilities\n",
        "\n",
        "This notebook accompanies [this lesson](http://dlsun.github.io/probability/binomial.html)."
      ]
    },
    {
      "cell_type": "code",
      "metadata": {
        "id": "QjLIYY6V2GlV",
        "colab_type": "code",
        "colab": {}
      },
      "source": [
        "# Install Symbulate in this Colab\n",
        "!pip install -q symbulate"
      ],
      "execution_count": null,
      "outputs": []
    },
    {
      "cell_type": "code",
      "metadata": {
        "id": "JV7NADSZRk5V",
        "colab_type": "code",
        "colab": {}
      },
      "source": [
        "list(range(2, 51, 2))"
      ],
      "execution_count": null,
      "outputs": []
    },
    {
      "cell_type": "code",
      "metadata": {
        "id": "VYhkwSmc2Nvm",
        "colab_type": "code",
        "colab": {}
      },
      "source": [
        "from symbulate import *\n",
        "probs = Binomial(n=51, p=0.01).pmf(range(2, 51, 2))\n",
        "probs"
      ],
      "execution_count": null,
      "outputs": []
    },
    {
      "cell_type": "code",
      "metadata": {
        "id": "LhJRUssW2UBq",
        "colab_type": "code",
        "colab": {}
      },
      "source": [
        "sum(probs)"
      ],
      "execution_count": null,
      "outputs": []
    }
  ]
}