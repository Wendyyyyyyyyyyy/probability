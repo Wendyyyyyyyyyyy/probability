{
  "nbformat": 4,
  "nbformat_minor": 0,
  "metadata": {
    "colab": {
      "name": "Calculating Poisson Probabilities",
      "provenance": [],
      "collapsed_sections": [],
      "authorship_tag": "ABX9TyMJfHEJ70iuMyEm8b+nKxA4",
      "include_colab_link": true
    },
    "kernelspec": {
      "name": "python3",
      "display_name": "Python 3"
    }
  },
  "cells": [
    {
      "cell_type": "markdown",
      "metadata": {
        "id": "view-in-github",
        "colab_type": "text"
      },
      "source": [
        "<a href=\"https://colab.research.google.com/github/dlsun/probability/blob/master/colabs/py/Calculating_Poisson_Probabilities.ipynb\" target=\"_parent\"><img src=\"https://colab.research.google.com/assets/colab-badge.svg\" alt=\"Open In Colab\"/></a>"
      ]
    },
    {
      "cell_type": "markdown",
      "metadata": {
        "id": "bloGjuMJ2W-U",
        "colab_type": "text"
      },
      "source": [
        "# Calculating Poisson Probabilities\n",
        "\n",
        "This notebook accompanies [this lesson](http://dlsun.github.io/probability/poisson.html)."
      ]
    },
    {
      "cell_type": "code",
      "metadata": {
        "id": "QjLIYY6V2GlV",
        "colab_type": "code",
        "colab": {}
      },
      "source": [
        "# Install Symbulate in this Colab\n",
        "!pip install -q symbulate"
      ],
      "execution_count": null,
      "outputs": []
    },
    {
      "cell_type": "code",
      "metadata": {
        "id": "O_4kgMBBi7HD",
        "colab_type": "code",
        "colab": {}
      },
      "source": [
        "from symbulate import *"
      ],
      "execution_count": null,
      "outputs": []
    },
    {
      "cell_type": "code",
      "metadata": {
        "id": "Cww2cCxci8Re",
        "colab_type": "code",
        "colab": {}
      },
      "source": [
        "# Plot the exact binomial and approximate Poisson distributions\n",
        "Binomial(n=10 ** 4, p=10 ** -3).plot(xlim=(0, 30))\n",
        "Poisson(10).plot(xlim=(0, 30))"
      ],
      "execution_count": null,
      "outputs": []
    },
    {
      "cell_type": "markdown",
      "metadata": {
        "id": "7W7NhcjqWT-r",
        "colab_type": "text"
      },
      "source": [
        "The two distributions agree almost perfectly, which is why you only see one curve (even though we plotted two curves)."
      ]
    },
    {
      "cell_type": "code",
      "metadata": {
        "id": "JV7NADSZRk5V",
        "colab_type": "code",
        "colab": {}
      },
      "source": [
        "probs = Poisson(10).pmf(\n",
        "  range(12) # range(12) is [0, 1, 2, ..., 11]\n",
        ")\n",
        "1 - sum(probs)"
      ],
      "execution_count": null,
      "outputs": []
    },
    {
      "cell_type": "code",
      "metadata": {
        "id": "LhJRUssW2UBq",
        "colab_type": "code",
        "colab": {}
      },
      "source": [
        "(1 - Poisson(10).cdf(11),                    # approximate\n",
        " 1 - Binomial(n=10 ** 4, p=10 ** -3).cdf(11) # exact\n",
        ")"
      ],
      "execution_count": null,
      "outputs": []
    },
    {
      "cell_type": "code",
      "metadata": {
        "id": "uf6ZKq_vXWL5",
        "colab_type": "code",
        "colab": {}
      },
      "source": [
        "x = 12\n",
        "while Poisson(10).cdf(x) < .99:\n",
        "  x += 1\n",
        "\n",
        "# print out the value of x and the probability\n",
        "x, Poisson(10).cdf(x)"
      ],
      "execution_count": null,
      "outputs": []
    }
  ]
}