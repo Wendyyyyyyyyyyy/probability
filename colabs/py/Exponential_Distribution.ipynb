{
  "nbformat": 4,
  "nbformat_minor": 0,
  "metadata": {
    "colab": {
      "name": "Exponential Distribution",
      "provenance": [],
      "authorship_tag": "ABX9TyP0p/nC7uA8mKsZ9y97Cy/B"
    },
    "kernelspec": {
      "name": "python3",
      "display_name": "Python 3"
    }
  },
  "cells": [
    {
      "cell_type": "markdown",
      "metadata": {
        "id": "eRvpLpTSJNiU",
        "colab_type": "text"
      },
      "source": [
        "# Exponential Distribution"
      ]
    },
    {
      "cell_type": "code",
      "metadata": {
        "id": "I9CuCqDMJSx7",
        "colab_type": "code",
        "colab": {}
      },
      "source": [
        "!pip install -q symbulate\n",
        "from symbulate import *"
      ],
      "execution_count": null,
      "outputs": []
    },
    {
      "cell_type": "code",
      "metadata": {
        "id": "iklHjiWNLl_N",
        "colab_type": "code",
        "colab": {}
      },
      "source": [
        "Exponential(0.3).plot()"
      ],
      "execution_count": null,
      "outputs": []
    },
    {
      "cell_type": "code",
      "metadata": {
        "id": "ulEZqozFJRQM",
        "colab_type": "code",
        "colab": {}
      },
      "source": [
        "Exponential(0.3).cdf(5) - Exponential(0.3).cdf(1)"
      ],
      "execution_count": null,
      "outputs": []
    }
  ]
}