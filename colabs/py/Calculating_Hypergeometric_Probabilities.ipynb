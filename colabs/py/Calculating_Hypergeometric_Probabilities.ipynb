{
  "nbformat": 4,
  "nbformat_minor": 0,
  "metadata": {
    "colab": {
      "name": "Calculating Hypergeometric Probabilities",
      "provenance": [],
      "collapsed_sections": [],
      "authorship_tag": "ABX9TyMwOCU/1qk5gNZjjQ7GBsXs",
      "include_colab_link": true
    },
    "kernelspec": {
      "name": "python3",
      "display_name": "Python 3"
    }
  },
  "cells": [
    {
      "cell_type": "markdown",
      "metadata": {
        "id": "view-in-github",
        "colab_type": "text"
      },
      "source": [
        "<a href=\"https://colab.research.google.com/github/dlsun/probability/blob/master/colabs/py/Calculating_Hypergeometric_Probabilities.ipynb\" target=\"_parent\"><img src=\"https://colab.research.google.com/assets/colab-badge.svg\" alt=\"Open In Colab\"/></a>"
      ]
    },
    {
      "cell_type": "markdown",
      "metadata": {
        "id": "bloGjuMJ2W-U",
        "colab_type": "text"
      },
      "source": [
        "# Calculating Hypergeometric Probabilities\n",
        "\n",
        "This notebook accompanies [this lesson](http://dlsun.github.io/probability/hypergeometric.html)."
      ]
    },
    {
      "cell_type": "code",
      "metadata": {
        "id": "QjLIYY6V2GlV",
        "colab_type": "code",
        "colab": {}
      },
      "source": [
        "# Install Symbulate in this Colab\n",
        "!pip install -q symbulate"
      ],
      "execution_count": null,
      "outputs": []
    },
    {
      "cell_type": "code",
      "metadata": {
        "id": "VYhkwSmc2Nvm",
        "colab_type": "code",
        "colab": {}
      },
      "source": [
        "from symbulate import *\n",
        "probs = Hypergeometric(n=30, N1=20, N0=80).pmf(range(7, 31))"
      ],
      "execution_count": null,
      "outputs": []
    },
    {
      "cell_type": "code",
      "metadata": {
        "id": "LhJRUssW2UBq",
        "colab_type": "code",
        "colab": {}
      },
      "source": [
        "sum(probs)"
      ],
      "execution_count": null,
      "outputs": []
    },
    {
      "cell_type": "code",
      "metadata": {
        "id": "K2XZD-7N2VBz",
        "colab_type": "code",
        "colab": {}
      },
      "source": [
        "1 - Hypergeometric(n=30, N1=20, N0=80).cdf(6)"
      ],
      "execution_count": null,
      "outputs": []
    }
  ]
}