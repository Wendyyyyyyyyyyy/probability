{
  "nbformat": 4,
  "nbformat_minor": 0,
  "metadata": {
    "colab": {
      "name": "Calculating Negative Binomial Probabilities",
      "provenance": [],
      "collapsed_sections": [],
      "include_colab_link": true
    },
    "kernelspec": {
      "name": "ir",
      "display_name": "R"
    }
  },
  "cells": [
    {
      "cell_type": "markdown",
      "metadata": {
        "id": "view-in-github",
        "colab_type": "text"
      },
      "source": [
        "<a href=\"https://colab.research.google.com/github/dlsun/probability/blob/master/colabs/r/Calculating_NegBinom_Probabilities.ipynb\" target=\"_parent\"><img src=\"https://colab.research.google.com/assets/colab-badge.svg\" alt=\"Open In Colab\"/></a>"
      ]
    },
    {
      "cell_type": "markdown",
      "metadata": {
        "id": "zkn9Nei63dUS",
        "colab_type": "text"
      },
      "source": [
        "# Calculating Binomial Probabilities (R Version)\n",
        "\n",
        "This notebook accompanies [this lesson](http://dlsun.github.io/probability/negative-binomial.html)."
      ]
    },
    {
      "cell_type": "markdown",
      "metadata": {
        "id": "BUfO_woYkJt4",
        "colab_type": "text"
      },
      "source": [
        "R uses the names `size=` and `prob=` for $r$ and $p$, respectively. \n",
        "\n",
        "R also defines the negative binomial distribution a bit differently than we do. It only counts the number of $\\fbox{0}$s that were drawn, rather than the total number of draws. So we have to remember to subtract the $r=10$ $\\fbox{1}$s from the total number of draws before passing values to `dnbinom` or `pnbinom`."
      ]
    },
    {
      "cell_type": "code",
      "metadata": {
        "id": "xxXfK3AwSfCi",
        "colab_type": "code",
        "colab": {}
      },
      "source": [
        "# PMF of negative binomial\n",
        "probs <- dnbinom((10:40) - 10 , size=10, prob=0.15)\n",
        "1 - sum(probs)"
      ],
      "execution_count": null,
      "outputs": []
    },
    {
      "cell_type": "code",
      "metadata": {
        "id": "Z60PpIfIeF4Z",
        "colab_type": "code",
        "colab": {}
      },
      "source": [
        "# CDF of negative binomial\n",
        "1 - pnbinom(40 - 10 , size=10, prob=0.15)"
      ],
      "execution_count": null,
      "outputs": []
    }
  ]
}