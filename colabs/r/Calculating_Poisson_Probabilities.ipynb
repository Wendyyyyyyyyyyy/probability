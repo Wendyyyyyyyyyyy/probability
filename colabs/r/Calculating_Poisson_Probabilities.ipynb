{
  "nbformat": 4,
  "nbformat_minor": 0,
  "metadata": {
    "colab": {
      "name": "Calculating Poisson Probabilities",
      "provenance": [],
      "collapsed_sections": [],
      "include_colab_link": true
    },
    "kernelspec": {
      "name": "ir",
      "display_name": "R"
    }
  },
  "cells": [
    {
      "cell_type": "markdown",
      "metadata": {
        "id": "view-in-github",
        "colab_type": "text"
      },
      "source": [
        "<a href=\"https://colab.research.google.com/github/dlsun/probability/blob/master/colabs/r/Calculating_Poisson_Probabilities.ipynb\" target=\"_parent\"><img src=\"https://colab.research.google.com/assets/colab-badge.svg\" alt=\"Open In Colab\"/></a>"
      ]
    },
    {
      "cell_type": "markdown",
      "metadata": {
        "id": "zkn9Nei63dUS",
        "colab_type": "text"
      },
      "source": [
        "# Calculating Poisson Probabilities (R Version)\n",
        "\n",
        "This notebook accompanies [this lesson](http://dlsun.github.io/probability/poisson.html)."
      ]
    },
    {
      "cell_type": "code",
      "metadata": {
        "id": "xxXfK3AwSfCi",
        "colab_type": "code",
        "colab": {}
      },
      "source": [
        "# PMF of Poisson\n",
        "probs <- dpois(0:11, 10)\n",
        "1 - sum(probs)"
      ],
      "execution_count": null,
      "outputs": []
    },
    {
      "cell_type": "code",
      "metadata": {
        "id": "Z60PpIfIeF4Z",
        "colab_type": "code",
        "colab": {}
      },
      "source": [
        "# CDF of Poisson\n",
        "1 - ppois(11, 10)"
      ],
      "execution_count": null,
      "outputs": []
    },
    {
      "cell_type": "code",
      "metadata": {
        "id": "-ELh3tFXXKOA",
        "colab_type": "code",
        "colab": {}
      },
      "source": [
        "x <- 12\n",
        "while(ppois(x, 10) < .99) {\n",
        "  x <- x + 1\n",
        "}\n",
        "  \n",
        "# print out the value of x and the probability\n",
        "c(x, ppois(x, 10))"
      ],
      "execution_count": null,
      "outputs": []
    }
  ]
}