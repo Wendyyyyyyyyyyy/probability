{
  "nbformat": 4,
  "nbformat_minor": 0,
  "metadata": {
    "colab": {
      "name": "Calculating Hypergeometric Probabilities",
      "provenance": [],
      "collapsed_sections": [],
      "include_colab_link": true
    },
    "kernelspec": {
      "name": "ir",
      "display_name": "R"
    }
  },
  "cells": [
    {
      "cell_type": "markdown",
      "metadata": {
        "id": "view-in-github",
        "colab_type": "text"
      },
      "source": [
        "<a href=\"https://colab.research.google.com/github/dlsun/probability/blob/master/colabs/r/Calculating_Binomial_Probabilities.ipynb\" target=\"_parent\"><img src=\"https://colab.research.google.com/assets/colab-badge.svg\" alt=\"Open In Colab\"/></a>"
      ]
    },
    {
      "cell_type": "markdown",
      "metadata": {
        "id": "zkn9Nei63dUS",
        "colab_type": "text"
      },
      "source": [
        "# Calculating Binomial Probabilities (R Version)\n",
        "\n",
        "This notebook accompanies [this lesson](http://dlsun.github.io/probability/binomial.html)."
      ]
    },
    {
      "cell_type": "code",
      "metadata": {
        "id": "xxXfK3AwSfCi",
        "colab_type": "code",
        "colab": {}
      },
      "source": [
        "seq(from=2, to=51, by=2)"
      ],
      "execution_count": null,
      "outputs": []
    },
    {
      "cell_type": "code",
      "metadata": {
        "id": "Z60PpIfIeF4Z",
        "colab_type": "code",
        "colab": {}
      },
      "source": [
        "probs <- dbinom(seq(from=2, to=51, by=2), size=51, prob=0.01)\n",
        "probs"
      ],
      "execution_count": null,
      "outputs": []
    },
    {
      "cell_type": "code",
      "metadata": {
        "id": "AouC3Wt83VR7",
        "colab_type": "code",
        "colab": {}
      },
      "source": [
        "sum(probs)"
      ],
      "execution_count": null,
      "outputs": []
    }
  ]
}